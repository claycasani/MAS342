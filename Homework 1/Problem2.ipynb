{
 "cells": [
  {
   "cell_type": "code",
   "id": "initial_id",
   "metadata": {
    "collapsed": true,
    "ExecuteTime": {
     "end_time": "2024-09-17T17:00:50.328399Z",
     "start_time": "2024-09-17T17:00:50.325405Z"
    }
   },
   "source": [
    "## Import necessary packages\n",
    "import gurobipy as gp\n",
    "from gurobipy import GRB"
   ],
   "outputs": [],
   "execution_count": 8
  },
  {
   "metadata": {
    "ExecuteTime": {
     "end_time": "2024-09-17T17:00:50.333889Z",
     "start_time": "2024-09-17T17:00:50.331612Z"
    }
   },
   "cell_type": "code",
   "source": [
    "# Create a linear program model\n",
    "model = gp.Model(\"dishwashing_detergent_model\")"
   ],
   "id": "fe99174321720004",
   "outputs": [],
   "execution_count": 9
  },
  {
   "metadata": {
    "ExecuteTime": {
     "end_time": "2024-09-17T17:00:50.337375Z",
     "start_time": "2024-09-17T17:00:50.334834Z"
    }
   },
   "cell_type": "code",
   "source": [
    "# Create variables and add to model\n",
    "x1 = model.addVar(name='TV_Spots')\n",
    "x2 = model.addVar(name='Newspaper_Ads')"
   ],
   "id": "8b1bcf28d92644ae",
   "outputs": [],
   "execution_count": 10
  },
  {
   "metadata": {
    "ExecuteTime": {
     "end_time": "2024-09-17T17:00:50.341584Z",
     "start_time": "2024-09-17T17:00:50.338908Z"
    }
   },
   "cell_type": "code",
   "source": [
    "# Add objective function: 35000 * x1 + 20000 * x2\n",
    "obj = 35000 * x1 + 20000 * x2\n",
    "model.setObjective(obj, GRB.MAXIMIZE)"
   ],
   "id": "4dcc53ed7d12f2c0",
   "outputs": [],
   "execution_count": 11
  },
  {
   "metadata": {
    "ExecuteTime": {
     "end_time": "2024-09-17T17:00:50.347748Z",
     "start_time": "2024-09-17T17:00:50.342494Z"
    }
   },
   "cell_type": "code",
   "source": [
    "# Add constraints\n",
    "\n",
    "model.addConstr(x1 >= 5, 'maximum TV ads')\n",
    "model.addConstr(x1 <= 25, 'minimum TV ads')\n",
    "\n",
    "model.addConstr(x2 >= 10, 'minimum Newspaper ads')\n",
    "\n",
    "model.addConstr(x1 * 3000 + x2 * 1250 <= 100000, 'budget')"
   ],
   "id": "6efab36e6ea8106a",
   "outputs": [
    {
     "data": {
      "text/plain": [
       "<gurobi.Constr *Awaiting Model Update*>"
      ]
     },
     "execution_count": 12,
     "metadata": {},
     "output_type": "execute_result"
    }
   ],
   "execution_count": 12
  },
  {
   "metadata": {
    "ExecuteTime": {
     "end_time": "2024-09-17T17:00:50.356692Z",
     "start_time": "2024-09-17T17:00:50.348755Z"
    }
   },
   "cell_type": "code",
   "source": [
    "# Optimize model\n",
    "model.optimize()"
   ],
   "id": "56bc1736791d11a1",
   "outputs": [
    {
     "name": "stdout",
     "output_type": "stream",
     "text": [
      "Gurobi Optimizer version 11.0.3 build v11.0.3rc0 (mac64[arm] - Darwin 23.0.0 23A344)\n",
      "\n",
      "CPU model: Apple M2\n",
      "Thread count: 8 physical cores, 8 logical processors, using up to 8 threads\n",
      "\n",
      "Optimize a model with 4 rows, 2 columns and 5 nonzeros\n",
      "Model fingerprint: 0x276d70b5\n",
      "Coefficient statistics:\n",
      "  Matrix range     [1e+00, 3e+03]\n",
      "  Objective range  [2e+04, 4e+04]\n",
      "  Bounds range     [0e+00, 0e+00]\n",
      "  RHS range        [5e+00, 1e+05]\n",
      "Presolve removed 4 rows and 2 columns\n",
      "Presolve time: 0.00s\n",
      "Presolve: All rows and columns removed\n",
      "Iteration    Objective       Primal Inf.    Dual Inf.      Time\n",
      "       0    1.5350000e+06   0.000000e+00   0.000000e+00      0s\n",
      "\n",
      "Solved in 0 iterations and 0.00 seconds (0.00 work units)\n",
      "Optimal objective  1.535000000e+06\n"
     ]
    }
   ],
   "execution_count": 13
  },
  {
   "metadata": {
    "ExecuteTime": {
     "end_time": "2024-09-17T17:02:49.032386Z",
     "start_time": "2024-09-17T17:02:49.028880Z"
    }
   },
   "cell_type": "code",
   "source": [
    "for v in model.getVars():\n",
    "    print(v.VarName, v.x)\n",
    "\n",
    "print('Maximum exposure: ', obj.getValue())"
   ],
   "id": "c7593e4071ec2631",
   "outputs": [
    {
     "name": "stdout",
     "output_type": "stream",
     "text": [
      "TV_Spots 5.0\n",
      "Newspaper_Ads 68.0\n",
      "Maximum exposure:  1535000.0\n"
     ]
    }
   ],
   "execution_count": 15
  },
  {
   "metadata": {},
   "cell_type": "code",
   "outputs": [],
   "execution_count": null,
   "source": "",
   "id": "ac452ad8c3779f6a"
  }
 ],
 "metadata": {
  "kernelspec": {
   "display_name": "Python 3",
   "language": "python",
   "name": "python3"
  },
  "language_info": {
   "codemirror_mode": {
    "name": "ipython",
    "version": 2
   },
   "file_extension": ".py",
   "mimetype": "text/x-python",
   "name": "python",
   "nbconvert_exporter": "python",
   "pygments_lexer": "ipython2",
   "version": "2.7.6"
  }
 },
 "nbformat": 4,
 "nbformat_minor": 5
}
