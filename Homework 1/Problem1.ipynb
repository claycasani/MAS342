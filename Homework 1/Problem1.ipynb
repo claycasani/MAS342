{
 "cells": [
  {
   "cell_type": "code",
   "id": "initial_id",
   "metadata": {
    "collapsed": true,
    "ExecuteTime": {
     "end_time": "2024-09-17T17:35:58.835655Z",
     "start_time": "2024-09-17T17:35:58.826110Z"
    }
   },
   "source": [
    "## Import necessary packages\n",
    "import gurobipy as gp\n",
    "from gurobipy import GRB"
   ],
   "outputs": [],
   "execution_count": 1
  },
  {
   "metadata": {
    "ExecuteTime": {
     "end_time": "2024-09-17T17:35:58.840466Z",
     "start_time": "2024-09-17T17:35:58.836820Z"
    }
   },
   "cell_type": "code",
   "source": [
    "# Create a linear program model\n",
    "model = gp.Model(\"linear_program\")"
   ],
   "id": "fe99174321720004",
   "outputs": [
    {
     "name": "stdout",
     "output_type": "stream",
     "text": [
      "Restricted license - for non-production use only - expires 2025-11-24\n"
     ]
    }
   ],
   "execution_count": 2
  },
  {
   "metadata": {
    "ExecuteTime": {
     "end_time": "2024-09-17T17:35:58.843163Z",
     "start_time": "2024-09-17T17:35:58.841408Z"
    }
   },
   "cell_type": "code",
   "source": [
    "# Create variables and add to model\n",
    "x1 = model.addVar(name='x1')\n",
    "x2 = model.addVar(name='x2')"
   ],
   "id": "8b1bcf28d92644ae",
   "outputs": [],
   "execution_count": 3
  },
  {
   "metadata": {
    "ExecuteTime": {
     "end_time": "2024-09-17T17:35:58.846022Z",
     "start_time": "2024-09-17T17:35:58.843696Z"
    }
   },
   "cell_type": "code",
   "source": [
    "# Add objective function: 3 * x1 - x2\n",
    "obj = 3 * x1 - x2\n",
    "model.setObjective(obj, GRB.MINIMIZE)"
   ],
   "id": "4dcc53ed7d12f2c0",
   "outputs": [],
   "execution_count": 4
  },
  {
   "metadata": {
    "ExecuteTime": {
     "end_time": "2024-09-17T17:35:58.852171Z",
     "start_time": "2024-09-17T17:35:58.847516Z"
    }
   },
   "cell_type": "code",
   "source": [
    "# Add constraints\n",
    "model.addConstr(2 * x1 + x2 >= 4)\n",
    "model.addConstr(2 * x1 + 3 * x2 <= 10)\n",
    "model.addConstr(x1 <= 2,)\n",
    "model.addConstr(x1 >= 0,)\n",
    "model.addConstr(x2 >= 0,)"
   ],
   "id": "6efab36e6ea8106a",
   "outputs": [
    {
     "data": {
      "text/plain": [
       "<gurobi.Constr *Awaiting Model Update*>"
      ]
     },
     "execution_count": 5,
     "metadata": {},
     "output_type": "execute_result"
    }
   ],
   "execution_count": 5
  },
  {
   "metadata": {
    "ExecuteTime": {
     "end_time": "2024-09-17T17:35:58.860991Z",
     "start_time": "2024-09-17T17:35:58.853227Z"
    }
   },
   "cell_type": "code",
   "source": [
    "# Optimize model\n",
    "model.optimize()"
   ],
   "id": "56bc1736791d11a1",
   "outputs": [
    {
     "name": "stdout",
     "output_type": "stream",
     "text": [
      "Gurobi Optimizer version 11.0.3 build v11.0.3rc0 (mac64[arm] - Darwin 23.0.0 23A344)\n",
      "\n",
      "CPU model: Apple M2\n",
      "Thread count: 8 physical cores, 8 logical processors, using up to 8 threads\n",
      "\n",
      "Optimize a model with 5 rows, 2 columns and 7 nonzeros\n",
      "Model fingerprint: 0xdab4525c\n",
      "Coefficient statistics:\n",
      "  Matrix range     [1e+00, 3e+00]\n",
      "  Objective range  [1e+00, 3e+00]\n",
      "  Bounds range     [0e+00, 0e+00]\n",
      "  RHS range        [2e+00, 1e+01]\n",
      "Presolve removed 5 rows and 2 columns\n",
      "Presolve time: 0.00s\n",
      "Presolve: All rows and columns removed\n",
      "Iteration    Objective       Primal Inf.    Dual Inf.      Time\n",
      "       0   -1.5000000e+00   0.000000e+00   0.000000e+00      0s\n",
      "\n",
      "Solved in 0 iterations and 0.00 seconds (0.00 work units)\n",
      "Optimal objective -1.500000000e+00\n"
     ]
    }
   ],
   "execution_count": 6
  },
  {
   "metadata": {
    "ExecuteTime": {
     "end_time": "2024-09-17T17:35:58.864261Z",
     "start_time": "2024-09-17T17:35:58.861683Z"
    }
   },
   "cell_type": "code",
   "source": [
    "for v in model.getVars():\n",
    "    print(v.VarName, v.x)\n",
    "\n",
    "print('Obj: ', obj.getValue())"
   ],
   "id": "c7593e4071ec2631",
   "outputs": [
    {
     "name": "stdout",
     "output_type": "stream",
     "text": [
      "x1 0.5000000000000001\n",
      "x2 3.0\n",
      "Obj:  -1.4999999999999996\n"
     ]
    }
   ],
   "execution_count": 7
  },
  {
   "metadata": {
    "ExecuteTime": {
     "end_time": "2024-09-17T17:35:58.866416Z",
     "start_time": "2024-09-17T17:35:58.864940Z"
    }
   },
   "cell_type": "code",
   "source": "",
   "id": "ac452ad8c3779f6a",
   "outputs": [],
   "execution_count": 7
  }
 ],
 "metadata": {
  "kernelspec": {
   "display_name": "Python 3",
   "language": "python",
   "name": "python3"
  },
  "language_info": {
   "codemirror_mode": {
    "name": "ipython",
    "version": 2
   },
   "file_extension": ".py",
   "mimetype": "text/x-python",
   "name": "python",
   "nbconvert_exporter": "python",
   "pygments_lexer": "ipython2",
   "version": "2.7.6"
  }
 },
 "nbformat": 4,
 "nbformat_minor": 5
}
