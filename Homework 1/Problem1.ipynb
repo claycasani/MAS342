{
 "cells": [
  {
   "cell_type": "code",
   "id": "initial_id",
   "metadata": {
    "collapsed": true,
    "ExecuteTime": {
     "end_time": "2024-09-17T18:58:28.477128Z",
     "start_time": "2024-09-17T18:58:28.470912Z"
    }
   },
   "source": [
    "## Import necessary packages\n",
    "import gurobipy as gp\n",
    "from gurobipy import GRB"
   ],
   "outputs": [],
   "execution_count": 8
  },
  {
   "metadata": {
    "ExecuteTime": {
     "end_time": "2024-09-17T18:58:28.493983Z",
     "start_time": "2024-09-17T18:58:28.479077Z"
    }
   },
   "cell_type": "code",
   "source": [
    "# Create a linear program model\n",
    "model = gp.Model(\"linear_program\")"
   ],
   "id": "fe99174321720004",
   "outputs": [],
   "execution_count": 9
  },
  {
   "metadata": {
    "ExecuteTime": {
     "end_time": "2024-09-17T18:58:28.497616Z",
     "start_time": "2024-09-17T18:58:28.495062Z"
    }
   },
   "cell_type": "code",
   "source": [
    "# Create variables and add to model\n",
    "x1 = model.addVar(name='x1')\n",
    "x2 = model.addVar(name='x2')"
   ],
   "id": "8b1bcf28d92644ae",
   "outputs": [],
   "execution_count": 10
  },
  {
   "metadata": {
    "ExecuteTime": {
     "end_time": "2024-09-17T18:58:28.502738Z",
     "start_time": "2024-09-17T18:58:28.499118Z"
    }
   },
   "cell_type": "code",
   "source": [
    "# Add objective function: 3 * x1 - x2\n",
    "obj = 3 * x1 - x2\n",
    "model.setObjective(obj, GRB.MINIMIZE)"
   ],
   "id": "4dcc53ed7d12f2c0",
   "outputs": [],
   "execution_count": 11
  },
  {
   "metadata": {
    "ExecuteTime": {
     "end_time": "2024-09-17T18:58:28.508454Z",
     "start_time": "2024-09-17T18:58:28.503442Z"
    }
   },
   "cell_type": "code",
   "source": [
    "# Add constraints\n",
    "model.addConstr(2 * x1 + x2 >= 4)\n",
    "model.addConstr(2 * x1 + 3 * x2 <= 10)\n",
    "model.addConstr(x2 <= 2,)\n",
    "model.addConstr(x1 >= 0,)\n",
    "model.addConstr(x2 >= 0,)"
   ],
   "id": "6efab36e6ea8106a",
   "outputs": [
    {
     "data": {
      "text/plain": [
       "<gurobi.Constr *Awaiting Model Update*>"
      ]
     },
     "execution_count": 12,
     "metadata": {},
     "output_type": "execute_result"
    }
   ],
   "execution_count": 12
  },
  {
   "metadata": {
    "ExecuteTime": {
     "end_time": "2024-09-17T18:58:28.520235Z",
     "start_time": "2024-09-17T18:58:28.509211Z"
    }
   },
   "cell_type": "code",
   "source": [
    "# Optimize model\n",
    "model.optimize()"
   ],
   "id": "56bc1736791d11a1",
   "outputs": [
    {
     "name": "stdout",
     "output_type": "stream",
     "text": [
      "Gurobi Optimizer version 11.0.3 build v11.0.3rc0 (mac64[arm] - Darwin 23.0.0 23A344)\n",
      "\n",
      "CPU model: Apple M2\n",
      "Thread count: 8 physical cores, 8 logical processors, using up to 8 threads\n",
      "\n",
      "Optimize a model with 5 rows, 2 columns and 7 nonzeros\n",
      "Model fingerprint: 0x9d69d727\n",
      "Coefficient statistics:\n",
      "  Matrix range     [1e+00, 3e+00]\n",
      "  Objective range  [1e+00, 3e+00]\n",
      "  Bounds range     [0e+00, 0e+00]\n",
      "  RHS range        [2e+00, 1e+01]\n",
      "Presolve removed 5 rows and 2 columns\n",
      "Presolve time: 0.00s\n",
      "Presolve: All rows and columns removed\n",
      "Iteration    Objective       Primal Inf.    Dual Inf.      Time\n",
      "       0    1.0000000e+00   0.000000e+00   0.000000e+00      0s\n",
      "\n",
      "Solved in 0 iterations and 0.01 seconds (0.00 work units)\n",
      "Optimal objective  1.000000000e+00\n"
     ]
    }
   ],
   "execution_count": 13
  },
  {
   "metadata": {
    "ExecuteTime": {
     "end_time": "2024-09-17T18:58:28.523439Z",
     "start_time": "2024-09-17T18:58:28.521110Z"
    }
   },
   "cell_type": "code",
   "source": [
    "for v in model.getVars():\n",
    "    print(v.VarName, v.x)\n",
    "\n",
    "print('Obj: ', obj.getValue())"
   ],
   "id": "c7593e4071ec2631",
   "outputs": [
    {
     "name": "stdout",
     "output_type": "stream",
     "text": [
      "x1 1.0\n",
      "x2 2.0\n",
      "Obj:  1.0\n"
     ]
    }
   ],
   "execution_count": 14
  },
  {
   "metadata": {
    "ExecuteTime": {
     "end_time": "2024-09-17T18:58:28.525314Z",
     "start_time": "2024-09-17T18:58:28.524145Z"
    }
   },
   "cell_type": "code",
   "source": "",
   "id": "ac452ad8c3779f6a",
   "outputs": [],
   "execution_count": 14
  }
 ],
 "metadata": {
  "kernelspec": {
   "display_name": "Python 3",
   "language": "python",
   "name": "python3"
  },
  "language_info": {
   "codemirror_mode": {
    "name": "ipython",
    "version": 2
   },
   "file_extension": ".py",
   "mimetype": "text/x-python",
   "name": "python",
   "nbconvert_exporter": "python",
   "pygments_lexer": "ipython2",
   "version": "2.7.6"
  }
 },
 "nbformat": 4,
 "nbformat_minor": 5
}
