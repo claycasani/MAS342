{
 "cells": [
  {
   "cell_type": "code",
   "id": "initial_id",
   "metadata": {
    "collapsed": true,
    "ExecuteTime": {
     "end_time": "2024-09-21T00:49:11.235204Z",
     "start_time": "2024-09-21T00:49:11.230643Z"
    }
   },
   "source": [
    "# Import necessary packages\n",
    "import gurobipy as gp\n",
    "from gurobipy import GRB"
   ],
   "outputs": [],
   "execution_count": 40
  },
  {
   "metadata": {
    "ExecuteTime": {
     "end_time": "2024-09-21T00:49:11.239241Z",
     "start_time": "2024-09-21T00:49:11.236758Z"
    }
   },
   "cell_type": "code",
   "source": "support = range(1, 8)",
   "id": "4eaed8c298f4870",
   "outputs": [],
   "execution_count": 41
  },
  {
   "metadata": {
    "ExecuteTime": {
     "end_time": "2024-09-21T00:49:11.246596Z",
     "start_time": "2024-09-21T00:49:11.240546Z"
    }
   },
   "cell_type": "code",
   "source": [
    "# Create a new model\n",
    "m = gp.Model()\n",
    "\n",
    "# Create variables\n",
    "x = m.addVars(support, name='probabilities')\n",
    "\n",
    "# Set objective function for maximization\n",
    "m.setObjective(x[1] + x[2], GRB.MAXIMIZE)\n",
    "\n",
    "# Add constraints\n",
    "m.addConstr(gp.quicksum(i * x[i] for i in support) == 4, name='expectation')\n",
    "m.addConstr(gp.quicksum(i ** 2 * x[i] for i in support) - 4 ** 2 == 5, name='variance')\n",
    "m.addConstr(x.sum() == 1, name='sum prob')\n",
    "m.addConstrs(x[i] <= 0.25 for i in support)\n",
    "m.addConstrs(x[i] >= 0 for i in support)"
   ],
   "id": "c7b544773026891c",
   "outputs": [
    {
     "data": {
      "text/plain": [
       "{1: <gurobi.Constr *Awaiting Model Update*>,\n",
       " 2: <gurobi.Constr *Awaiting Model Update*>,\n",
       " 3: <gurobi.Constr *Awaiting Model Update*>,\n",
       " 4: <gurobi.Constr *Awaiting Model Update*>,\n",
       " 5: <gurobi.Constr *Awaiting Model Update*>,\n",
       " 6: <gurobi.Constr *Awaiting Model Update*>,\n",
       " 7: <gurobi.Constr *Awaiting Model Update*>}"
      ]
     },
     "execution_count": 42,
     "metadata": {},
     "output_type": "execute_result"
    }
   ],
   "execution_count": 42
  },
  {
   "metadata": {
    "ExecuteTime": {
     "end_time": "2024-09-21T00:49:11.256931Z",
     "start_time": "2024-09-21T00:49:11.247441Z"
    }
   },
   "cell_type": "code",
   "source": [
    "# Optimize model\n",
    "m.optimize()"
   ],
   "id": "37d88f978015a4a1",
   "outputs": [
    {
     "name": "stdout",
     "output_type": "stream",
     "text": [
      "Gurobi Optimizer version 11.0.3 build v11.0.3rc0 (mac64[arm] - Darwin 23.0.0 23A344)\n",
      "\n",
      "CPU model: Apple M2\n",
      "Thread count: 8 physical cores, 8 logical processors, using up to 8 threads\n",
      "\n",
      "Optimize a model with 17 rows, 7 columns and 35 nonzeros\n",
      "Model fingerprint: 0x45f0a9ee\n",
      "Coefficient statistics:\n",
      "  Matrix range     [1e+00, 5e+01]\n",
      "  Objective range  [1e+00, 1e+00]\n",
      "  Bounds range     [0e+00, 0e+00]\n",
      "  RHS range        [2e-01, 2e+01]\n",
      "Presolve removed 14 rows and 0 columns\n",
      "Presolve time: 0.00s\n",
      "Presolved: 3 rows, 7 columns, 21 nonzeros\n",
      "\n",
      "Iteration    Objective       Primal Inf.    Dual Inf.      Time\n",
      "       0    4.0000000e+00   7.812500e+00   0.000000e+00      0s\n",
      "       6    4.3750000e-01   0.000000e+00   0.000000e+00      0s\n",
      "\n",
      "Solved in 6 iterations and 0.00 seconds (0.00 work units)\n",
      "Optimal objective  4.375000000e-01\n"
     ]
    }
   ],
   "execution_count": 43
  },
  {
   "metadata": {
    "ExecuteTime": {
     "end_time": "2024-09-21T00:49:11.261247Z",
     "start_time": "2024-09-21T00:49:11.258770Z"
    }
   },
   "cell_type": "code",
   "source": [
    "#Print values for decision variables\n",
    "for v in m.getVars():\n",
    "    print(v.varName, v.x)\n",
    "\n",
    "#Print maximized profit value\n",
    "print('Maximized value:',  m.objVal)"
   ],
   "id": "56df3916443589a",
   "outputs": [
    {
     "name": "stdout",
     "output_type": "stream",
     "text": [
      "probabilities[1] 0.18750000000000003\n",
      "probabilities[2] 0.25\n",
      "probabilities[3] 0.0\n",
      "probabilities[4] 0.0\n",
      "probabilities[5] 0.1875\n",
      "probabilities[6] 0.25\n",
      "probabilities[7] 0.125\n",
      "Maximized value: 0.4375\n"
     ]
    }
   ],
   "execution_count": 44
  },
  {
   "metadata": {
    "ExecuteTime": {
     "end_time": "2024-09-21T00:49:11.268460Z",
     "start_time": "2024-09-21T00:49:11.262165Z"
    }
   },
   "cell_type": "code",
   "source": [
    "# Set objective function for minimization\n",
    "m.setObjective(x[1] + x[2], GRB.MINIMIZE)\n",
    "m.optimize()"
   ],
   "id": "ec84e33301d4cae9",
   "outputs": [
    {
     "name": "stdout",
     "output_type": "stream",
     "text": [
      "Gurobi Optimizer version 11.0.3 build v11.0.3rc0 (mac64[arm] - Darwin 23.0.0 23A344)\n",
      "\n",
      "CPU model: Apple M2\n",
      "Thread count: 8 physical cores, 8 logical processors, using up to 8 threads\n",
      "\n",
      "Optimize a model with 17 rows, 7 columns and 35 nonzeros\n",
      "Coefficient statistics:\n",
      "  Matrix range     [1e+00, 5e+01]\n",
      "  Objective range  [1e+00, 1e+00]\n",
      "  Bounds range     [0e+00, 0e+00]\n",
      "  RHS range        [2e-01, 2e+01]\n",
      "LP warm-start: use basis\n",
      "\n",
      "Iteration    Objective       Primal Inf.    Dual Inf.      Time\n",
      "       0   -6.0937500e+29   1.001562e+31   6.093750e-01      0s\n",
      "       5    2.3333333e-01   0.000000e+00   0.000000e+00      0s\n",
      "\n",
      "Solved in 5 iterations and 0.00 seconds (0.00 work units)\n",
      "Optimal objective  2.333333333e-01\n"
     ]
    }
   ],
   "execution_count": 45
  },
  {
   "metadata": {
    "ExecuteTime": {
     "end_time": "2024-09-21T00:49:11.271475Z",
     "start_time": "2024-09-21T00:49:11.269216Z"
    }
   },
   "cell_type": "code",
   "source": [
    "#Print values for decision variables\n",
    "for v in m.getVars():\n",
    "    print(v.varName, v.x)\n",
    "\n",
    "#Print maximized profit value\n",
    "print('Minimized value:',  m.objVal)"
   ],
   "id": "4a9e8e712b97626d",
   "outputs": [
    {
     "name": "stdout",
     "output_type": "stream",
     "text": [
      "probabilities[1] 0.23333333333333334\n",
      "probabilities[2] 0.0\n",
      "probabilities[3] 0.25\n",
      "probabilities[4] 0.16666666666666669\n",
      "probabilities[5] 0.0\n",
      "probabilities[6] 0.09999999999999999\n",
      "probabilities[7] 0.25\n",
      "Minimized value: 0.23333333333333334\n"
     ]
    }
   ],
   "execution_count": 46
  }
 ],
 "metadata": {
  "kernelspec": {
   "display_name": "Python 3",
   "language": "python",
   "name": "python3"
  },
  "language_info": {
   "codemirror_mode": {
    "name": "ipython",
    "version": 2
   },
   "file_extension": ".py",
   "mimetype": "text/x-python",
   "name": "python",
   "nbconvert_exporter": "python",
   "pygments_lexer": "ipython2",
   "version": "2.7.6"
  }
 },
 "nbformat": 4,
 "nbformat_minor": 5
}
