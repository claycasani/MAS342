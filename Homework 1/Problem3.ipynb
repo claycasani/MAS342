{
 "cells": [
  {
   "cell_type": "code",
   "id": "initial_id",
   "metadata": {
    "collapsed": true,
    "ExecuteTime": {
     "end_time": "2024-09-20T06:41:19.013548Z",
     "start_time": "2024-09-20T06:41:18.686541Z"
    }
   },
   "source": [
    "## Import necessary packages\n",
    "import gurobipy as gp\n",
    "from gurobipy import GRB"
   ],
   "outputs": [],
   "execution_count": 1
  },
  {
   "metadata": {
    "ExecuteTime": {
     "end_time": "2024-09-20T06:41:19.020657Z",
     "start_time": "2024-09-20T06:41:19.015513Z"
    }
   },
   "cell_type": "code",
   "source": [
    "# Create a linear program model\n",
    "model = gp.Model(\"product_processing\")"
   ],
   "id": "fe99174321720004",
   "outputs": [
    {
     "name": "stdout",
     "output_type": "stream",
     "text": [
      "Restricted license - for non-production use only - expires 2025-11-24\n"
     ]
    }
   ],
   "execution_count": 2
  },
  {
   "metadata": {
    "ExecuteTime": {
     "end_time": "2024-09-20T06:41:19.024872Z",
     "start_time": "2024-09-20T06:41:19.021291Z"
    }
   },
   "cell_type": "code",
   "source": [
    "# Create variables and add to model\n",
    "x1 = model.addVar(name='P1_M1') # Units of P1 processed by M1\n",
    "x2 = model.addVar(name='P1_M2') # Units of P1 processed by M2\n",
    "x3 = model.addVar(name='P2_M1') # Units of P2 processed by M1\n",
    "x4 = model.addVar(name='P2_M2') # Units of P2 processed by M2"
   ],
   "id": "8b1bcf28d92644ae",
   "outputs": [],
   "execution_count": 3
  },
  {
   "metadata": {
    "ExecuteTime": {
     "end_time": "2024-09-20T06:41:19.030326Z",
     "start_time": "2024-09-20T06:41:19.027387Z"
    }
   },
   "cell_type": "code",
   "source": [
    "# Add objective function: 4 * x1 + 7 * x2 + 12 * x3 + 15 * x4\n",
    "obj = 4 * x1 + 7 * x2 + 12 * x3 + 15 * x4\n",
    "model.setObjective(obj, GRB.MINIMIZE)"
   ],
   "id": "4dcc53ed7d12f2c0",
   "outputs": [],
   "execution_count": 4
  },
  {
   "metadata": {
    "ExecuteTime": {
     "end_time": "2024-09-20T06:41:19.037776Z",
     "start_time": "2024-09-20T06:41:19.031077Z"
    }
   },
   "cell_type": "code",
   "source": [
    "# Add constraints\n",
    "model.addConstr(x1 + x2 ==  20)\n",
    "model.addConstr(x3 + x4 == 30)\n",
    "model.addConstr(15 * x1 + 25 * x3 <= 450)\n",
    "model.addConstr(10 * x2 + 20 * x4 <= 450)\n",
    "model.addConstr(15 * x1 + 25 * x3 <= 10 * x2 + 20 * x4)"
   ],
   "id": "6efab36e6ea8106a",
   "outputs": [
    {
     "data": {
      "text/plain": [
       "<gurobi.Constr *Awaiting Model Update*>"
      ]
     },
     "execution_count": 5,
     "metadata": {},
     "output_type": "execute_result"
    }
   ],
   "execution_count": 5
  },
  {
   "metadata": {
    "ExecuteTime": {
     "end_time": "2024-09-20T06:41:19.050395Z",
     "start_time": "2024-09-20T06:41:19.038726Z"
    }
   },
   "cell_type": "code",
   "source": [
    "# Optimize model\n",
    "model.optimize()"
   ],
   "id": "56bc1736791d11a1",
   "outputs": [
    {
     "name": "stdout",
     "output_type": "stream",
     "text": [
      "Gurobi Optimizer version 11.0.3 build v11.0.3rc0 (mac64[arm] - Darwin 23.0.0 23A344)\n",
      "\n",
      "CPU model: Apple M2\n",
      "Thread count: 8 physical cores, 8 logical processors, using up to 8 threads\n",
      "\n",
      "Optimize a model with 5 rows, 4 columns and 12 nonzeros\n",
      "Model fingerprint: 0x55318192\n",
      "Coefficient statistics:\n",
      "  Matrix range     [1e+00, 2e+01]\n",
      "  Objective range  [4e+00, 2e+01]\n",
      "  Bounds range     [0e+00, 0e+00]\n",
      "  RHS range        [2e+01, 4e+02]\n",
      "Presolve removed 2 rows and 2 columns\n",
      "Presolve time: 0.00s\n",
      "Presolved: 3 rows, 2 columns, 6 nonzeros\n",
      "\n",
      "Iteration    Objective       Primal Inf.    Dual Inf.      Time\n",
      "       0    5.1495300e+02   1.567396e+00   0.000000e+00      0s\n",
      "       1    5.3000000e+02   0.000000e+00   0.000000e+00      0s\n",
      "\n",
      "Solved in 1 iterations and 0.01 seconds (0.00 work units)\n",
      "Optimal objective  5.300000000e+02\n"
     ]
    }
   ],
   "execution_count": 6
  },
  {
   "metadata": {
    "ExecuteTime": {
     "end_time": "2024-09-20T06:41:19.054007Z",
     "start_time": "2024-09-20T06:41:19.051175Z"
    }
   },
   "cell_type": "code",
   "source": [
    "for v in model.getVars():\n",
    "    print(v.VarName, v.x)\n",
    "\n",
    "print('Minimized cost: ', obj.getValue())"
   ],
   "id": "c7593e4071ec2631",
   "outputs": [
    {
     "name": "stdout",
     "output_type": "stream",
     "text": [
      "P1_M1 5.000000000000014\n",
      "P1_M2 14.999999999999986\n",
      "P2_M1 14.999999999999991\n",
      "P2_M2 15.000000000000009\n",
      "Minimized cost:  530.0\n"
     ]
    }
   ],
   "execution_count": 7
  },
  {
   "metadata": {
    "ExecuteTime": {
     "end_time": "2024-09-20T06:41:19.056302Z",
     "start_time": "2024-09-20T06:41:19.054744Z"
    }
   },
   "cell_type": "code",
   "source": "",
   "id": "ac452ad8c3779f6a",
   "outputs": [],
   "execution_count": 7
  }
 ],
 "metadata": {
  "kernelspec": {
   "display_name": "Python 3",
   "language": "python",
   "name": "python3"
  },
  "language_info": {
   "codemirror_mode": {
    "name": "ipython",
    "version": 2
   },
   "file_extension": ".py",
   "mimetype": "text/x-python",
   "name": "python",
   "nbconvert_exporter": "python",
   "pygments_lexer": "ipython2",
   "version": "2.7.6"
  }
 },
 "nbformat": 4,
 "nbformat_minor": 5
}
