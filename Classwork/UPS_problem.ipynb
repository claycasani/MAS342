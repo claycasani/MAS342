{
 "nbformat": 4,
 "nbformat_minor": 0,
 "metadata": {
  "colab": {
   "provenance": []
  },
  "kernelspec": {
   "name": "python3",
   "display_name": "Python 3 (ipykernel)",
   "language": "python"
  },
  "language_info": {
   "name": "python"
  }
 },
 "cells": [
  {
   "cell_type": "code",
   "metadata": {
    "id": "-Pjs3GeLWQdT",
    "colab": {
     "base_uri": "https://localhost:8080/"
    },
    "outputId": "c2ce353f-0454-4a35-ffd6-4b4dc9ade6ab",
    "ExecuteTime": {
     "end_time": "2024-09-05T22:11:08.507835Z",
     "start_time": "2024-09-05T22:11:08.504508Z"
    }
   },
   "source": [
    "import gurobipy as gp\n",
    "from gurobipy import GRB"
   ],
   "outputs": [],
   "execution_count": 10
  },
  {
   "cell_type": "markdown",
   "source": [
    "# This example formulates and solves the UPS problem from lecture 1\n",
    "# minimize  50*x1 + 30*x2\n",
    "#  subject to  40*x1 + 25*x2 >= 400   (demand cosntraint)\n",
    "#             x1 + x2 <= 13          (drivers constraint)\n",
    "#             x1 <= 11               (large trucks constraint)\n",
    "#            x2 <= 10               (small trucks constraint)\n",
    "#              x1, x2 non-negative"
   ],
   "metadata": {
    "id": "lizjrZLeYx_s"
   }
  },
  {
   "cell_type": "code",
   "source": [
    "# Create a new model and name it UPS Problem\n",
    "m = gp.Model('UPS Problem')"
   ],
   "metadata": {
    "id": "BywgU-X-Y8U2",
    "ExecuteTime": {
     "end_time": "2024-09-05T22:11:08.513719Z",
     "start_time": "2024-09-05T22:11:08.510752Z"
    }
   },
   "outputs": [],
   "execution_count": 11
  },
  {
   "cell_type": "code",
   "source": [
    "# Create variables and add to model m\n",
    "x1 = m.addVar(name='Large Trucks')\n",
    "x2 = m.addVar(name='Small Trucks')"
   ],
   "metadata": {
    "id": "hjrmQRU6ZIQY",
    "ExecuteTime": {
     "end_time": "2024-09-05T22:11:08.517259Z",
     "start_time": "2024-09-05T22:11:08.514767Z"
    }
   },
   "outputs": [],
   "execution_count": 12
  },
  {
   "cell_type": "code",
   "source": [
    "# Set objective function: 50*x1 + 30*x2\n",
    "obj = 50*x1 + 30*x2\n",
    "m.setObjective(obj, GRB.MINIMIZE) # Set objective to minimize obj with the use of GRB solver"
   ],
   "metadata": {
    "id": "1OHc-WRpZbVm",
    "ExecuteTime": {
     "end_time": "2024-09-05T22:11:08.521077Z",
     "start_time": "2024-09-05T22:11:08.519042Z"
    }
   },
   "outputs": [],
   "execution_count": 13
  },
  {
   "cell_type": "code",
   "source": [
    "# Add constraint: 40*x1 + 25*x2 >= 400\n",
    "m.addConstr(40*x1 + 25*x2 >= 400, 'satisfy demand')\n",
    "\n",
    "# Add constraint x1 + x2 <= 13\n",
    "m.addConstr(x1 + x2 <= 13, 'drivers availability')\n",
    "\n",
    "# Add constraint x1 <= 11\n",
    "m.addConstr(x1  <= 11, 'large trucks availability')\n",
    "\n",
    "# Add constraint x2 <= 10\n",
    "m.addConstr(x2  <= 10, 'small trucks availability')"
   ],
   "metadata": {
    "id": "nG8EPInwaG8F",
    "ExecuteTime": {
     "end_time": "2024-09-05T22:11:08.525657Z",
     "start_time": "2024-09-05T22:11:08.521774Z"
    }
   },
   "outputs": [
    {
     "data": {
      "text/plain": [
       "<gurobi.Constr *Awaiting Model Update*>"
      ]
     },
     "execution_count": 14,
     "metadata": {},
     "output_type": "execute_result"
    }
   ],
   "execution_count": 14
  },
  {
   "cell_type": "code",
   "source": [
    "#solve the model\n",
    "m.optimize()"
   ],
   "metadata": {
    "id": "-KyJWDRwdPPm",
    "ExecuteTime": {
     "end_time": "2024-09-05T22:11:08.541250Z",
     "start_time": "2024-09-05T22:11:08.530960Z"
    }
   },
   "outputs": [
    {
     "name": "stdout",
     "output_type": "stream",
     "text": [
      "Gurobi Optimizer version 11.0.3 build v11.0.3rc0 (mac64[arm] - Darwin 23.0.0 23A344)\n",
      "\n",
      "CPU model: Apple M2\n",
      "Thread count: 8 physical cores, 8 logical processors, using up to 8 threads\n",
      "\n",
      "Optimize a model with 4 rows, 2 columns and 6 nonzeros\n",
      "Model fingerprint: 0x765ca71d\n",
      "Coefficient statistics:\n",
      "  Matrix range     [1e+00, 4e+01]\n",
      "  Objective range  [3e+01, 5e+01]\n",
      "  Bounds range     [0e+00, 0e+00]\n",
      "  RHS range        [1e+01, 4e+02]\n",
      "Presolve removed 4 rows and 2 columns\n",
      "Presolve time: 0.00s\n",
      "Presolve: All rows and columns removed\n",
      "Iteration    Objective       Primal Inf.    Dual Inf.      Time\n",
      "       0    4.9000000e+02   0.000000e+00   0.000000e+00      0s\n",
      "\n",
      "Solved in 0 iterations and 0.00 seconds (0.00 work units)\n",
      "Optimal objective  4.900000000e+02\n"
     ]
    }
   ],
   "execution_count": 15
  },
  {
   "cell_type": "code",
   "source": [
    "for v in m.getVars():\n",
    "    print(v.VarName, v.x)\n",
    "\n",
    "print('Obj: ', obj.getValue())"
   ],
   "metadata": {
    "id": "zlRBDJGFd4S_",
    "ExecuteTime": {
     "end_time": "2024-09-05T22:11:08.545410Z",
     "start_time": "2024-09-05T22:11:08.542416Z"
    }
   },
   "outputs": [
    {
     "name": "stdout",
     "output_type": "stream",
     "text": [
      "Large Trucks 5.0\n",
      "Small Trucks 8.0\n",
      "Obj:  490.0\n"
     ]
    }
   ],
   "execution_count": 16
  }
 ]
}
